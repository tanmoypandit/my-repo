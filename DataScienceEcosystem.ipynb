{
 "cells": [
  {
   "cell_type": "markdown",
   "id": "1b33902e-cce4-4342-8811-e93c06b64202",
   "metadata": {},
   "source": [
    "# Data Science Tools and Ecosystem\n"
   ]
  },
  {
   "cell_type": "markdown",
   "id": "870ab5f5-80b6-4cee-b5d2-79f15b0857de",
   "metadata": {},
   "source": [
    "In this notebook, Data Science Tools and Ecosystem are summarized"
   ]
  },
  {
   "cell_type": "markdown",
   "id": "b284d596-217c-404a-8dfb-a43ba86438fd",
   "metadata": {},
   "source": [
    "Some of the popular languages that Data Scientists use are:\n",
    "1. Python\n",
    "2. R\n",
    "3. C++\n",
    "4. Java\n",
    "5. SQL\n",
    "6. Julia\n",
    "7. MATLAB\n",
    "8. JavaScript\n",
    "\n",
    "   "
   ]
  },
  {
   "cell_type": "markdown",
   "id": "d1ed2a9e-52e2-40a3-88bb-035600bada25",
   "metadata": {},
   "source": [
    "Some of the commonly used libraries used by Data Scientists include:\n",
    "1. Panda\n",
    "2. Numpy\n",
    "3. Tensorflow\n",
    "4. Scikit-learn\n",
    "5. Keras\n",
    "6. Scipy\n",
    "7. Seaborn"
   ]
  },
  {
   "cell_type": "markdown",
   "id": "493f16cb-0805-487c-a35f-b4adc730b064",
   "metadata": {},
   "source": [
    "| Data Science Tools |\n",
    "| ------------------ |\n",
    "| Jupyter Notebook   |\n",
    "| RStudio            |\n",
    "| VS Code            |\n"
   ]
  },
  {
   "cell_type": "markdown",
   "id": "3fcf6e6f-6f86-49f5-8ebb-687e6b0860d0",
   "metadata": {},
   "source": [
    "### Below are a few examples of evaluating arithmetic expressions in Python"
   ]
  },
  {
   "cell_type": "code",
   "execution_count": 2,
   "id": "efb9ba93-721d-4c82-ab5c-c6a08c2d6f92",
   "metadata": {},
   "outputs": [
    {
     "data": {
      "text/plain": [
       "17"
      ]
     },
     "execution_count": 2,
     "metadata": {},
     "output_type": "execute_result"
    }
   ],
   "source": [
    "#This a simple arithmetic expression to mutiply then add integers\n",
    "(3*4)+5"
   ]
  },
  {
   "cell_type": "code",
   "execution_count": 4,
   "id": "c6cb8f13-5b2f-4fab-ba28-d4b49cba5d50",
   "metadata": {},
   "outputs": [
    {
     "name": "stdout",
     "output_type": "stream",
     "text": [
      "3.3333333333333335\n"
     ]
    }
   ],
   "source": [
    "# This will convert 200 minutes to hours by dividing by 60.\n",
    "Hours = 200 / 60\n",
    "print(Hours)"
   ]
  },
  {
   "cell_type": "markdown",
   "id": "982eff2b-15ef-4f18-85ab-6ec923a89f50",
   "metadata": {},
   "source": [
    "**Objectives:**\n",
    "\n",
    "- List popular languages for Data Science.\n",
    "- Overview of commonly used libraries by Data Scientists.\n",
    "- Explanation of Jupyter Notebook and its functionalities.\n",
    "- Demonstrating code execution in Jupyter Notebook.\n",
    "- Introduction to data science development environments."
   ]
  },
  {
   "cell_type": "markdown",
   "id": "33665cd3-94bb-4187-9be8-855b80a067a3",
   "metadata": {},
   "source": [
    "## Author\n",
    "Tanmoy\n"
   ]
  },
  {
   "cell_type": "code",
   "execution_count": null,
   "id": "62b03cd5-76ab-4a3c-9bf6-a23f18de2a6a",
   "metadata": {},
   "outputs": [],
   "source": []
  }
 ],
 "metadata": {
  "kernelspec": {
   "display_name": "Python 3 (ipykernel)",
   "language": "python",
   "name": "python3"
  },
  "language_info": {
   "codemirror_mode": {
    "name": "ipython",
    "version": 3
   },
   "file_extension": ".py",
   "mimetype": "text/x-python",
   "name": "python",
   "nbconvert_exporter": "python",
   "pygments_lexer": "ipython3",
   "version": "3.11.4"
  }
 },
 "nbformat": 4,
 "nbformat_minor": 5
}
